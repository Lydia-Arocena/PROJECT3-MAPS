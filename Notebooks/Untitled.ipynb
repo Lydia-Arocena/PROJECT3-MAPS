{
 "cells": [
  {
   "cell_type": "code",
   "execution_count": 9,
   "id": "dbbbccf0",
   "metadata": {},
   "outputs": [],
   "source": [
    "import requests\n",
    "import json\n",
    "from dotenv import load_dotenv\n",
    "import os\n",
    "import pandas as pd\n",
    "import pyjsonviewer\n",
    "from functools import reduce\n",
    "import operator\n",
    "import json\n",
    "from pymongo import MongoClient\n",
    "from pymongo import GEOSPHERE\n",
    "import sys\n",
    "sys.path.append('../')\n",
    "import src.functions as func"
   ]
  },
  {
   "cell_type": "markdown",
   "id": "2087ef15",
   "metadata": {},
   "source": [
    "### Choosing 3 cities to place my office:"
   ]
  },
  {
   "cell_type": "markdown",
   "id": "2fb4130e",
   "metadata": {},
   "source": [
    "#### A. Madrid:"
   ]
  },
  {
   "cell_type": "code",
   "execution_count": 29,
   "id": "656e4505",
   "metadata": {},
   "outputs": [],
   "source": [
    "madrid=func.geocode(\"Castellana 89, Paseo de la Castellana, Madrid\") #Torre Picasso."
   ]
  },
  {
   "cell_type": "code",
   "execution_count": 30,
   "id": "44542341",
   "metadata": {},
   "outputs": [
    {
     "data": {
      "text/plain": [
       "{'type': 'Point', 'coordinates': ['40.44980', '-3.69164']}"
      ]
     },
     "execution_count": 30,
     "metadata": {},
     "output_type": "execute_result"
    }
   ],
   "source": [
    "madrid"
   ]
  },
  {
   "cell_type": "markdown",
   "id": "37b03fb6",
   "metadata": {},
   "source": [
    "#### B. Málaga:"
   ]
  },
  {
   "cell_type": "code",
   "execution_count": 84,
   "id": "76846bb1",
   "metadata": {},
   "outputs": [],
   "source": [
    "malaga=func.geocode(\"Calle Larios, Malaga\")"
   ]
  },
  {
   "cell_type": "code",
   "execution_count": 85,
   "id": "7ca43abb",
   "metadata": {},
   "outputs": [
    {
     "data": {
      "text/plain": [
       "{'type': 'Point', 'coordinates': ['36.72048', '-4.42166']}"
      ]
     },
     "execution_count": 85,
     "metadata": {},
     "output_type": "execute_result"
    }
   ],
   "source": [
    "malaga"
   ]
  },
  {
   "cell_type": "markdown",
   "id": "968b0d73",
   "metadata": {},
   "source": [
    "#### C. Barcelona:"
   ]
  },
  {
   "cell_type": "code",
   "execution_count": 158,
   "id": "f9c94592",
   "metadata": {},
   "outputs": [],
   "source": [
    "barcelona=func.geocode(\"Plaça de Catalunya, Barcelona\")"
   ]
  },
  {
   "cell_type": "code",
   "execution_count": 159,
   "id": "2cd7fc40",
   "metadata": {},
   "outputs": [
    {
     "data": {
      "text/plain": [
       "{'type': 'Point', 'coordinates': ['41.38781', '2.16920']}"
      ]
     },
     "execution_count": 159,
     "metadata": {},
     "output_type": "execute_result"
    }
   ],
   "source": [
    "barcelona"
   ]
  },
  {
   "cell_type": "markdown",
   "id": "d4f7397c",
   "metadata": {},
   "source": [
    "### Prioritizing some requirements over othes:"
   ]
  },
  {
   "cell_type": "markdown",
   "id": "a55c950c",
   "metadata": {},
   "source": [
    "- **Designers like to go to design talks and share knowledge. There must be some nearby companies that also do design.**\n",
    "- 30% of the company staff have at least 1 child.\n",
    "- Developers like to be near successful tech startups that have raised at least 1 Million dollars.\n",
    "- **Executives like Starbucks A LOT. Ensure there's a starbucks not too far.**\n",
    "- **Account managers need to travel a lot.**\n",
    "- **Everyone in the company is between 25 and 40, give them some place to go party.**\n",
    "- **The CEO is vegan.**\n",
    "- If you want to make the maintenance guy happy, a basketball stadium must be around 10 Km.\n",
    "- The office dog—\"Dobby\" needs a hairdresser every month. Ensure there's one not too far away."
   ]
  },
  {
   "cell_type": "markdown",
   "id": "6b8152a4",
   "metadata": {},
   "source": [
    "### API Foursquare requests:"
   ]
  },
  {
   "cell_type": "code",
   "execution_count": 31,
   "id": "ccd0384b",
   "metadata": {},
   "outputs": [
    {
     "data": {
      "text/plain": [
       "True"
      ]
     },
     "execution_count": 31,
     "metadata": {},
     "output_type": "execute_result"
    }
   ],
   "source": [
    "load_dotenv()"
   ]
  },
  {
   "cell_type": "code",
   "execution_count": 32,
   "id": "f6240fb6",
   "metadata": {},
   "outputs": [],
   "source": [
    "client_id = os.getenv(\"tok1\")\n",
    "client_secret = os.getenv(\"tok2\")"
   ]
  },
  {
   "cell_type": "code",
   "execution_count": 33,
   "id": "73e0e4a9",
   "metadata": {},
   "outputs": [],
   "source": [
    "url = \"https://favqs.com/api/session\"\n",
    "url_query = 'https://api.foursquare.com/v2/venues/search'"
   ]
  },
  {
   "cell_type": "markdown",
   "id": "cde7d132",
   "metadata": {},
   "source": [
    "#### A. Madrid-Empresas de diseño:"
   ]
  },
  {
   "cell_type": "code",
   "execution_count": 34,
   "id": "2b91f87a",
   "metadata": {},
   "outputs": [],
   "source": [
    "parametros = {\n",
    "    \"client_id\": client_id,\n",
    "    \"client_secret\": client_secret,\n",
    "    \"v\": \"20180323\",\n",
    "    \"ll\": f\"{madrid['coordinates'][0]}, {madrid['coordinates'][1]}\",\n",
    "    \"query\": \"empresas de diseño\"\n",
    "}"
   ]
  },
  {
   "cell_type": "code",
   "execution_count": 35,
   "id": "13869146",
   "metadata": {},
   "outputs": [],
   "source": [
    "dis_mad = requests.get(url_query, params = parametros).json()"
   ]
  },
  {
   "cell_type": "code",
   "execution_count": 36,
   "id": "36f1e3fa",
   "metadata": {},
   "outputs": [],
   "source": [
    "#dis_mad"
   ]
  },
  {
   "cell_type": "code",
   "execution_count": 37,
   "id": "9a70da3e",
   "metadata": {},
   "outputs": [],
   "source": [
    "diseños_md = dis_mad[\"response\"][\"venues\"]"
   ]
  },
  {
   "cell_type": "code",
   "execution_count": 38,
   "id": "146ede04",
   "metadata": {},
   "outputs": [],
   "source": [
    "#diseños_md"
   ]
  },
  {
   "cell_type": "code",
   "execution_count": 39,
   "id": "206d5260",
   "metadata": {},
   "outputs": [],
   "source": [
    "lista_diseñomad=func.extraetodo(diseños_md)"
   ]
  },
  {
   "cell_type": "code",
   "execution_count": 40,
   "id": "85d322e3",
   "metadata": {},
   "outputs": [],
   "source": [
    "datos_diseñomadrid = pd.DataFrame(lista_diseñomad)\n"
   ]
  },
  {
   "cell_type": "code",
   "execution_count": 41,
   "id": "8c557ccf",
   "metadata": {},
   "outputs": [
    {
     "data": {
      "text/html": [
       "<div>\n",
       "<style scoped>\n",
       "    .dataframe tbody tr th:only-of-type {\n",
       "        vertical-align: middle;\n",
       "    }\n",
       "\n",
       "    .dataframe tbody tr th {\n",
       "        vertical-align: top;\n",
       "    }\n",
       "\n",
       "    .dataframe thead th {\n",
       "        text-align: right;\n",
       "    }\n",
       "</style>\n",
       "<table border=\"1\" class=\"dataframe\">\n",
       "  <thead>\n",
       "    <tr style=\"text-align: right;\">\n",
       "      <th></th>\n",
       "      <th>nombre</th>\n",
       "      <th>latitud</th>\n",
       "      <th>longitud</th>\n",
       "      <th>location</th>\n",
       "    </tr>\n",
       "  </thead>\n",
       "  <tbody>\n",
       "    <tr>\n",
       "      <th>0</th>\n",
       "      <td>Esne (Escuela Universitaria de Diseño, Innovac...</td>\n",
       "      <td>40.457096</td>\n",
       "      <td>-3.667365</td>\n",
       "      <td>{'type': 'Point', 'coordinates': [40.457095782...</td>\n",
       "    </tr>\n",
       "    <tr>\n",
       "      <th>1</th>\n",
       "      <td>Schmidt Hernani - Cocinas De Diseño</td>\n",
       "      <td>40.448264</td>\n",
       "      <td>-3.697171</td>\n",
       "      <td>{'type': 'Point', 'coordinates': [40.448264292...</td>\n",
       "    </tr>\n",
       "    <tr>\n",
       "      <th>2</th>\n",
       "      <td>Centro De Empresas De Seguridad Alonso Cano 99</td>\n",
       "      <td>40.445357</td>\n",
       "      <td>-3.697281</td>\n",
       "      <td>{'type': 'Point', 'coordinates': [40.445357283...</td>\n",
       "    </tr>\n",
       "    <tr>\n",
       "      <th>3</th>\n",
       "      <td>Central de Diseño / DIMAD</td>\n",
       "      <td>40.392015</td>\n",
       "      <td>-3.696827</td>\n",
       "      <td>{'type': 'Point', 'coordinates': [40.392015380...</td>\n",
       "    </tr>\n",
       "    <tr>\n",
       "      <th>4</th>\n",
       "      <td>empresas de piscinas en madrid</td>\n",
       "      <td>40.414419</td>\n",
       "      <td>-3.703423</td>\n",
       "      <td>{'type': 'Point', 'coordinates': [40.414419115...</td>\n",
       "    </tr>\n",
       "  </tbody>\n",
       "</table>\n",
       "</div>"
      ],
      "text/plain": [
       "                                              nombre    latitud  longitud  \\\n",
       "0  Esne (Escuela Universitaria de Diseño, Innovac...  40.457096 -3.667365   \n",
       "1                Schmidt Hernani - Cocinas De Diseño  40.448264 -3.697171   \n",
       "2     Centro De Empresas De Seguridad Alonso Cano 99  40.445357 -3.697281   \n",
       "3                          Central de Diseño / DIMAD  40.392015 -3.696827   \n",
       "4                     empresas de piscinas en madrid  40.414419 -3.703423   \n",
       "\n",
       "                                            location  \n",
       "0  {'type': 'Point', 'coordinates': [40.457095782...  \n",
       "1  {'type': 'Point', 'coordinates': [40.448264292...  \n",
       "2  {'type': 'Point', 'coordinates': [40.445357283...  \n",
       "3  {'type': 'Point', 'coordinates': [40.392015380...  \n",
       "4  {'type': 'Point', 'coordinates': [40.414419115...  "
      ]
     },
     "execution_count": 41,
     "metadata": {},
     "output_type": "execute_result"
    }
   ],
   "source": [
    "datos_diseñomadrid.head()"
   ]
  },
  {
   "cell_type": "code",
   "execution_count": 42,
   "id": "4d1ae0aa",
   "metadata": {},
   "outputs": [],
   "source": [
    "diseñoMadrid = datos_diseñomadrid.copy()"
   ]
  },
  {
   "cell_type": "markdown",
   "id": "900496c6",
   "metadata": {},
   "source": [
    "#### A. Madrid-Starbucks:"
   ]
  },
  {
   "cell_type": "code",
   "execution_count": 43,
   "id": "8f3369c1",
   "metadata": {},
   "outputs": [],
   "source": [
    "parametros_St = {\n",
    "    \"client_id\": client_id,\n",
    "    \"client_secret\": client_secret,\n",
    "    \"v\": \"20180323\",\n",
    "    \"ll\": f\"{madrid['coordinates'][0]}, {madrid['coordinates'][1]}\",\n",
    "    \"query\": \"Starbucks\"\n",
    "}"
   ]
  },
  {
   "cell_type": "code",
   "execution_count": 44,
   "id": "269266b5",
   "metadata": {},
   "outputs": [],
   "source": [
    "St_mad = requests.get(url_query, params = parametros_St).json()"
   ]
  },
  {
   "cell_type": "code",
   "execution_count": 45,
   "id": "41c30a20",
   "metadata": {
    "scrolled": false
   },
   "outputs": [],
   "source": [
    "#St_mad"
   ]
  },
  {
   "cell_type": "code",
   "execution_count": 46,
   "id": "aad91f82",
   "metadata": {},
   "outputs": [],
   "source": [
    "St_datamd = St_mad[\"response\"][\"venues\"]"
   ]
  },
  {
   "cell_type": "code",
   "execution_count": 47,
   "id": "a79f00da",
   "metadata": {},
   "outputs": [],
   "source": [
    "lista_starbucksmad=func.extraetodo(St_datamd)"
   ]
  },
  {
   "cell_type": "code",
   "execution_count": 48,
   "id": "91343d2e",
   "metadata": {},
   "outputs": [],
   "source": [
    "datos_Starbucksmadrid=pd.DataFrame(lista_starbucksmad)"
   ]
  },
  {
   "cell_type": "code",
   "execution_count": 49,
   "id": "d26e400b",
   "metadata": {},
   "outputs": [
    {
     "data": {
      "text/html": [
       "<div>\n",
       "<style scoped>\n",
       "    .dataframe tbody tr th:only-of-type {\n",
       "        vertical-align: middle;\n",
       "    }\n",
       "\n",
       "    .dataframe tbody tr th {\n",
       "        vertical-align: top;\n",
       "    }\n",
       "\n",
       "    .dataframe thead th {\n",
       "        text-align: right;\n",
       "    }\n",
       "</style>\n",
       "<table border=\"1\" class=\"dataframe\">\n",
       "  <thead>\n",
       "    <tr style=\"text-align: right;\">\n",
       "      <th></th>\n",
       "      <th>nombre</th>\n",
       "      <th>latitud</th>\n",
       "      <th>longitud</th>\n",
       "      <th>location</th>\n",
       "    </tr>\n",
       "  </thead>\n",
       "  <tbody>\n",
       "    <tr>\n",
       "      <th>0</th>\n",
       "      <td>Starbucks</td>\n",
       "      <td>40.447489</td>\n",
       "      <td>-3.693093</td>\n",
       "      <td>{'type': 'Point', 'coordinates': [40.447488723...</td>\n",
       "    </tr>\n",
       "    <tr>\n",
       "      <th>1</th>\n",
       "      <td>Starbucks</td>\n",
       "      <td>40.447729</td>\n",
       "      <td>-3.695175</td>\n",
       "      <td>{'type': 'Point', 'coordinates': [40.447728697...</td>\n",
       "    </tr>\n",
       "    <tr>\n",
       "      <th>2</th>\n",
       "      <td>Starbucks</td>\n",
       "      <td>40.455046</td>\n",
       "      <td>-3.693885</td>\n",
       "      <td>{'type': 'Point', 'coordinates': [40.455046, -...</td>\n",
       "    </tr>\n",
       "    <tr>\n",
       "      <th>3</th>\n",
       "      <td>Starbucks</td>\n",
       "      <td>40.432968</td>\n",
       "      <td>-3.683220</td>\n",
       "      <td>{'type': 'Point', 'coordinates': [40.432967606...</td>\n",
       "    </tr>\n",
       "    <tr>\n",
       "      <th>4</th>\n",
       "      <td>Starbucks</td>\n",
       "      <td>40.433564</td>\n",
       "      <td>-3.686829</td>\n",
       "      <td>{'type': 'Point', 'coordinates': [40.433563917...</td>\n",
       "    </tr>\n",
       "  </tbody>\n",
       "</table>\n",
       "</div>"
      ],
      "text/plain": [
       "      nombre    latitud  longitud  \\\n",
       "0  Starbucks  40.447489 -3.693093   \n",
       "1  Starbucks  40.447729 -3.695175   \n",
       "2  Starbucks  40.455046 -3.693885   \n",
       "3  Starbucks  40.432968 -3.683220   \n",
       "4  Starbucks  40.433564 -3.686829   \n",
       "\n",
       "                                            location  \n",
       "0  {'type': 'Point', 'coordinates': [40.447488723...  \n",
       "1  {'type': 'Point', 'coordinates': [40.447728697...  \n",
       "2  {'type': 'Point', 'coordinates': [40.455046, -...  \n",
       "3  {'type': 'Point', 'coordinates': [40.432967606...  \n",
       "4  {'type': 'Point', 'coordinates': [40.433563917...  "
      ]
     },
     "execution_count": 49,
     "metadata": {},
     "output_type": "execute_result"
    }
   ],
   "source": [
    "datos_Starbucksmadrid.head()"
   ]
  },
  {
   "cell_type": "code",
   "execution_count": 50,
   "id": "bed764de",
   "metadata": {},
   "outputs": [],
   "source": [
    "StarbucksMadrid = datos_Starbucksmadrid.copy()"
   ]
  },
  {
   "cell_type": "markdown",
   "id": "6fadb88d",
   "metadata": {},
   "source": [
    "#### A. Madrid-Airports:"
   ]
  },
  {
   "cell_type": "code",
   "execution_count": 51,
   "id": "0372351c",
   "metadata": {},
   "outputs": [],
   "source": [
    "parametros_A = {\n",
    "    \"client_id\": client_id,\n",
    "    \"client_secret\": client_secret,\n",
    "    \"v\": \"20180323\",\n",
    "    \"ll\": f\"{madrid['coordinates'][0]}, {madrid['coordinates'][1]}\",\n",
    "    \"query\": \"Airport\"\n",
    "}"
   ]
  },
  {
   "cell_type": "code",
   "execution_count": 52,
   "id": "544c7580",
   "metadata": {},
   "outputs": [],
   "source": [
    "airport_mad=requests.get(url_query, params=parametros_A).json()"
   ]
  },
  {
   "cell_type": "code",
   "execution_count": 53,
   "id": "52a165d7",
   "metadata": {},
   "outputs": [],
   "source": [
    "#airport_mad"
   ]
  },
  {
   "cell_type": "code",
   "execution_count": 54,
   "id": "0fcc41fe",
   "metadata": {},
   "outputs": [],
   "source": [
    "air_datamd = airport_mad[\"response\"][\"venues\"]"
   ]
  },
  {
   "cell_type": "code",
   "execution_count": 55,
   "id": "f2a00659",
   "metadata": {},
   "outputs": [],
   "source": [
    "lista_airportmad=func.extraetodo(air_datamd)"
   ]
  },
  {
   "cell_type": "code",
   "execution_count": 56,
   "id": "8a5d747d",
   "metadata": {},
   "outputs": [],
   "source": [
    "datos_airportmadrid=pd.DataFrame(lista_airportmad)"
   ]
  },
  {
   "cell_type": "code",
   "execution_count": 57,
   "id": "d7ba2779",
   "metadata": {},
   "outputs": [
    {
     "data": {
      "text/html": [
       "<div>\n",
       "<style scoped>\n",
       "    .dataframe tbody tr th:only-of-type {\n",
       "        vertical-align: middle;\n",
       "    }\n",
       "\n",
       "    .dataframe tbody tr th {\n",
       "        vertical-align: top;\n",
       "    }\n",
       "\n",
       "    .dataframe thead th {\n",
       "        text-align: right;\n",
       "    }\n",
       "</style>\n",
       "<table border=\"1\" class=\"dataframe\">\n",
       "  <thead>\n",
       "    <tr style=\"text-align: right;\">\n",
       "      <th></th>\n",
       "      <th>nombre</th>\n",
       "      <th>latitud</th>\n",
       "      <th>longitud</th>\n",
       "      <th>location</th>\n",
       "    </tr>\n",
       "  </thead>\n",
       "  <tbody>\n",
       "    <tr>\n",
       "      <th>0</th>\n",
       "      <td>AIRPORT TAVERN</td>\n",
       "      <td>40.454018</td>\n",
       "      <td>-3.678821</td>\n",
       "      <td>{'type': 'Point', 'coordinates': [40.454017958...</td>\n",
       "    </tr>\n",
       "    <tr>\n",
       "      <th>1</th>\n",
       "      <td>Hotel NH Madrid Barajas Airport</td>\n",
       "      <td>40.451022</td>\n",
       "      <td>-3.594986</td>\n",
       "      <td>{'type': 'Point', 'coordinates': [40.451022341...</td>\n",
       "    </tr>\n",
       "    <tr>\n",
       "      <th>2</th>\n",
       "      <td>Tryp Madrid Airport Suites</td>\n",
       "      <td>40.445569</td>\n",
       "      <td>-3.543607</td>\n",
       "      <td>{'type': 'Point', 'coordinates': [40.4455692, ...</td>\n",
       "    </tr>\n",
       "    <tr>\n",
       "      <th>3</th>\n",
       "      <td>Saludando – Hilton Madrid Airport</td>\n",
       "      <td>40.452070</td>\n",
       "      <td>-3.585533</td>\n",
       "      <td>{'type': 'Point', 'coordinates': [40.452070242...</td>\n",
       "    </tr>\n",
       "    <tr>\n",
       "      <th>4</th>\n",
       "      <td>Aeropuerto Adolfo Suárez Madrid-Barajas (MAD) ...</td>\n",
       "      <td>40.490222</td>\n",
       "      <td>-3.569434</td>\n",
       "      <td>{'type': 'Point', 'coordinates': [40.490222162...</td>\n",
       "    </tr>\n",
       "  </tbody>\n",
       "</table>\n",
       "</div>"
      ],
      "text/plain": [
       "                                              nombre    latitud  longitud  \\\n",
       "0                                     AIRPORT TAVERN  40.454018 -3.678821   \n",
       "1                    Hotel NH Madrid Barajas Airport  40.451022 -3.594986   \n",
       "2                         Tryp Madrid Airport Suites  40.445569 -3.543607   \n",
       "3                  Saludando – Hilton Madrid Airport  40.452070 -3.585533   \n",
       "4  Aeropuerto Adolfo Suárez Madrid-Barajas (MAD) ...  40.490222 -3.569434   \n",
       "\n",
       "                                            location  \n",
       "0  {'type': 'Point', 'coordinates': [40.454017958...  \n",
       "1  {'type': 'Point', 'coordinates': [40.451022341...  \n",
       "2  {'type': 'Point', 'coordinates': [40.4455692, ...  \n",
       "3  {'type': 'Point', 'coordinates': [40.452070242...  \n",
       "4  {'type': 'Point', 'coordinates': [40.490222162...  "
      ]
     },
     "execution_count": 57,
     "metadata": {},
     "output_type": "execute_result"
    }
   ],
   "source": [
    "datos_airportmadrid.head()"
   ]
  },
  {
   "cell_type": "markdown",
   "id": "82e6dfc5",
   "metadata": {},
   "source": [
    "#### A. Madrid-Disco:"
   ]
  },
  {
   "cell_type": "code",
   "execution_count": 58,
   "id": "ace51c81",
   "metadata": {},
   "outputs": [],
   "source": [
    "parametros_D = {\n",
    "    \"client_id\": client_id,\n",
    "    \"client_secret\": client_secret,\n",
    "    \"v\": \"20180323\",\n",
    "    \"ll\": f\"{madrid['coordinates'][0]}, {madrid['coordinates'][1]}\",\n",
    "    \"query\": \"Disco\"\n",
    "}"
   ]
  },
  {
   "cell_type": "code",
   "execution_count": 59,
   "id": "96f303ac",
   "metadata": {},
   "outputs": [],
   "source": [
    "disco_mad=requests.get(url_query,params=parametros_D).json()"
   ]
  },
  {
   "cell_type": "code",
   "execution_count": 60,
   "id": "8d437b8e",
   "metadata": {},
   "outputs": [],
   "source": [
    "disco_datamad=disco_mad[\"response\"][\"venues\"]"
   ]
  },
  {
   "cell_type": "code",
   "execution_count": 61,
   "id": "c60429b9",
   "metadata": {},
   "outputs": [],
   "source": [
    "lista_discomad=func.extraetodo(disco_datamad)"
   ]
  },
  {
   "cell_type": "code",
   "execution_count": 62,
   "id": "e1d56e0e",
   "metadata": {},
   "outputs": [],
   "source": [
    "datos_discomadrid=pd.DataFrame(lista_discomad)"
   ]
  },
  {
   "cell_type": "code",
   "execution_count": 63,
   "id": "02692a4a",
   "metadata": {},
   "outputs": [
    {
     "data": {
      "text/html": [
       "<div>\n",
       "<style scoped>\n",
       "    .dataframe tbody tr th:only-of-type {\n",
       "        vertical-align: middle;\n",
       "    }\n",
       "\n",
       "    .dataframe tbody tr th {\n",
       "        vertical-align: top;\n",
       "    }\n",
       "\n",
       "    .dataframe thead th {\n",
       "        text-align: right;\n",
       "    }\n",
       "</style>\n",
       "<table border=\"1\" class=\"dataframe\">\n",
       "  <thead>\n",
       "    <tr style=\"text-align: right;\">\n",
       "      <th></th>\n",
       "      <th>nombre</th>\n",
       "      <th>latitud</th>\n",
       "      <th>longitud</th>\n",
       "      <th>location</th>\n",
       "    </tr>\n",
       "  </thead>\n",
       "  <tbody>\n",
       "    <tr>\n",
       "      <th>0</th>\n",
       "      <td>Disco Rug &amp; Play</td>\n",
       "      <td>40.451888</td>\n",
       "      <td>-3.696266</td>\n",
       "      <td>{'type': 'Point', 'coordinates': [40.451888, -...</td>\n",
       "    </tr>\n",
       "    <tr>\n",
       "      <th>1</th>\n",
       "      <td>Panamericana Disco</td>\n",
       "      <td>40.452806</td>\n",
       "      <td>-3.690264</td>\n",
       "      <td>{'type': 'Point', 'coordinates': [40.452806048...</td>\n",
       "    </tr>\n",
       "    <tr>\n",
       "      <th>2</th>\n",
       "      <td>Disco Express</td>\n",
       "      <td>40.434539</td>\n",
       "      <td>-3.710257</td>\n",
       "      <td>{'type': 'Point', 'coordinates': [40.434538914...</td>\n",
       "    </tr>\n",
       "    <tr>\n",
       "      <th>3</th>\n",
       "      <td>Disco Yedra Pub</td>\n",
       "      <td>40.434041</td>\n",
       "      <td>-3.714618</td>\n",
       "      <td>{'type': 'Point', 'coordinates': [40.434040912...</td>\n",
       "    </tr>\n",
       "    <tr>\n",
       "      <th>4</th>\n",
       "      <td>Destellos Pub Disco</td>\n",
       "      <td>40.437682</td>\n",
       "      <td>-3.709905</td>\n",
       "      <td>{'type': 'Point', 'coordinates': [40.437681716...</td>\n",
       "    </tr>\n",
       "  </tbody>\n",
       "</table>\n",
       "</div>"
      ],
      "text/plain": [
       "                nombre    latitud  longitud  \\\n",
       "0     Disco Rug & Play  40.451888 -3.696266   \n",
       "1   Panamericana Disco  40.452806 -3.690264   \n",
       "2        Disco Express  40.434539 -3.710257   \n",
       "3      Disco Yedra Pub  40.434041 -3.714618   \n",
       "4  Destellos Pub Disco  40.437682 -3.709905   \n",
       "\n",
       "                                            location  \n",
       "0  {'type': 'Point', 'coordinates': [40.451888, -...  \n",
       "1  {'type': 'Point', 'coordinates': [40.452806048...  \n",
       "2  {'type': 'Point', 'coordinates': [40.434538914...  \n",
       "3  {'type': 'Point', 'coordinates': [40.434040912...  \n",
       "4  {'type': 'Point', 'coordinates': [40.437681716...  "
      ]
     },
     "execution_count": 63,
     "metadata": {},
     "output_type": "execute_result"
    }
   ],
   "source": [
    "datos_discomadrid.head()"
   ]
  },
  {
   "cell_type": "markdown",
   "id": "a376a2a1",
   "metadata": {},
   "source": [
    "####  A. Madrid-Vegan:"
   ]
  },
  {
   "cell_type": "code",
   "execution_count": 64,
   "id": "9004396c",
   "metadata": {},
   "outputs": [],
   "source": [
    "parametros_V= {\n",
    "    \"client_id\": client_id,\n",
    "    \"client_secret\": client_secret,\n",
    "    \"v\": \"20180323\",\n",
    "    \"ll\": f\"{madrid['coordinates'][0]}, {madrid['coordinates'][1]}\",\n",
    "    \"query\": \"Vegan\"\n",
    "}"
   ]
  },
  {
   "cell_type": "code",
   "execution_count": 65,
   "id": "d77c2ad9",
   "metadata": {},
   "outputs": [],
   "source": [
    "vegan_mad=requests.get(url_query,params=parametros_V).json()"
   ]
  },
  {
   "cell_type": "code",
   "execution_count": 66,
   "id": "360431a5",
   "metadata": {},
   "outputs": [],
   "source": [
    "vegan_datamad=vegan_mad[\"response\"][\"venues\"]"
   ]
  },
  {
   "cell_type": "code",
   "execution_count": 67,
   "id": "c657ed99",
   "metadata": {},
   "outputs": [],
   "source": [
    "lista_veganmad=func.extraetodo(vegan_datamad)"
   ]
  },
  {
   "cell_type": "code",
   "execution_count": 68,
   "id": "d92a5f58",
   "metadata": {},
   "outputs": [],
   "source": [
    "datos_veganmadrid=pd.DataFrame(lista_veganmad)"
   ]
  },
  {
   "cell_type": "code",
   "execution_count": 69,
   "id": "829a605e",
   "metadata": {},
   "outputs": [
    {
     "data": {
      "text/html": [
       "<div>\n",
       "<style scoped>\n",
       "    .dataframe tbody tr th:only-of-type {\n",
       "        vertical-align: middle;\n",
       "    }\n",
       "\n",
       "    .dataframe tbody tr th {\n",
       "        vertical-align: top;\n",
       "    }\n",
       "\n",
       "    .dataframe thead th {\n",
       "        text-align: right;\n",
       "    }\n",
       "</style>\n",
       "<table border=\"1\" class=\"dataframe\">\n",
       "  <thead>\n",
       "    <tr style=\"text-align: right;\">\n",
       "      <th></th>\n",
       "      <th>nombre</th>\n",
       "      <th>latitud</th>\n",
       "      <th>longitud</th>\n",
       "      <th>location</th>\n",
       "    </tr>\n",
       "  </thead>\n",
       "  <tbody>\n",
       "    <tr>\n",
       "      <th>0</th>\n",
       "      <td>Vegan Streets Madrid Castellana</td>\n",
       "      <td>40.442456</td>\n",
       "      <td>-3.679973</td>\n",
       "      <td>{'type': 'Point', 'coordinates': [40.4424564, ...</td>\n",
       "    </tr>\n",
       "    <tr>\n",
       "      <th>1</th>\n",
       "      <td>Vegan Streets Madrid Centro</td>\n",
       "      <td>40.417512</td>\n",
       "      <td>-3.697636</td>\n",
       "      <td>{'type': 'Point', 'coordinates': [40.4175117, ...</td>\n",
       "    </tr>\n",
       "    <tr>\n",
       "      <th>2</th>\n",
       "      <td>vegetarian / vegan restaurant</td>\n",
       "      <td>40.432974</td>\n",
       "      <td>-3.686693</td>\n",
       "      <td>{'type': 'Point', 'coordinates': [40.432974, -...</td>\n",
       "    </tr>\n",
       "    <tr>\n",
       "      <th>3</th>\n",
       "      <td>Mad Mad Vegan</td>\n",
       "      <td>40.424183</td>\n",
       "      <td>-3.700731</td>\n",
       "      <td>{'type': 'Point', 'coordinates': [40.424183, -...</td>\n",
       "    </tr>\n",
       "    <tr>\n",
       "      <th>4</th>\n",
       "      <td>Los Andenes Vegan</td>\n",
       "      <td>40.435206</td>\n",
       "      <td>-3.710348</td>\n",
       "      <td>{'type': 'Point', 'coordinates': [40.435206, -...</td>\n",
       "    </tr>\n",
       "  </tbody>\n",
       "</table>\n",
       "</div>"
      ],
      "text/plain": [
       "                            nombre    latitud  longitud  \\\n",
       "0  Vegan Streets Madrid Castellana  40.442456 -3.679973   \n",
       "1      Vegan Streets Madrid Centro  40.417512 -3.697636   \n",
       "2    vegetarian / vegan restaurant  40.432974 -3.686693   \n",
       "3                    Mad Mad Vegan  40.424183 -3.700731   \n",
       "4                Los Andenes Vegan  40.435206 -3.710348   \n",
       "\n",
       "                                            location  \n",
       "0  {'type': 'Point', 'coordinates': [40.4424564, ...  \n",
       "1  {'type': 'Point', 'coordinates': [40.4175117, ...  \n",
       "2  {'type': 'Point', 'coordinates': [40.432974, -...  \n",
       "3  {'type': 'Point', 'coordinates': [40.424183, -...  \n",
       "4  {'type': 'Point', 'coordinates': [40.435206, -...  "
      ]
     },
     "execution_count": 69,
     "metadata": {},
     "output_type": "execute_result"
    }
   ],
   "source": [
    "datos_veganmadrid.head()"
   ]
  },
  {
   "cell_type": "markdown",
   "id": "af31e705",
   "metadata": {},
   "source": [
    "#### Suming up all requirements in a single list (Madrid)."
   ]
  },
  {
   "cell_type": "code",
   "execution_count": 148,
   "id": "9b25395c",
   "metadata": {},
   "outputs": [],
   "source": [
    "MADRID=func.sum_requirements(lista_diseñomad, lista_starbucksmad, lista_airportmad, lista_discomad, lista_veganmad)"
   ]
  },
  {
   "cell_type": "code",
   "execution_count": 71,
   "id": "61b6bfad",
   "metadata": {},
   "outputs": [],
   "source": [
    "datos_MADRID=pd.DataFrame(MADRID)"
   ]
  },
  {
   "cell_type": "code",
   "execution_count": 149,
   "id": "190cc921",
   "metadata": {},
   "outputs": [
    {
     "data": {
      "text/html": [
       "<div>\n",
       "<style scoped>\n",
       "    .dataframe tbody tr th:only-of-type {\n",
       "        vertical-align: middle;\n",
       "    }\n",
       "\n",
       "    .dataframe tbody tr th {\n",
       "        vertical-align: top;\n",
       "    }\n",
       "\n",
       "    .dataframe thead th {\n",
       "        text-align: right;\n",
       "    }\n",
       "</style>\n",
       "<table border=\"1\" class=\"dataframe\">\n",
       "  <thead>\n",
       "    <tr style=\"text-align: right;\">\n",
       "      <th></th>\n",
       "      <th>nombre</th>\n",
       "      <th>latitud</th>\n",
       "      <th>longitud</th>\n",
       "      <th>location</th>\n",
       "    </tr>\n",
       "  </thead>\n",
       "  <tbody>\n",
       "    <tr>\n",
       "      <th>25</th>\n",
       "      <td>Empresas de Limpieza en Madrid</td>\n",
       "      <td>40.356127</td>\n",
       "      <td>-3.780756</td>\n",
       "      <td>{'type': 'Point', 'coordinates': [40.356126771...</td>\n",
       "    </tr>\n",
       "  </tbody>\n",
       "</table>\n",
       "</div>"
      ],
      "text/plain": [
       "                            nombre    latitud  longitud  \\\n",
       "25  Empresas de Limpieza en Madrid  40.356127 -3.780756   \n",
       "\n",
       "                                             location  \n",
       "25  {'type': 'Point', 'coordinates': [40.356126771...  "
      ]
     },
     "execution_count": 149,
     "metadata": {},
     "output_type": "execute_result"
    }
   ],
   "source": [
    "datos_MADRID.sample()"
   ]
  },
  {
   "cell_type": "markdown",
   "id": "b16abffb",
   "metadata": {},
   "source": [
    "#### B. Málaga-Empresas de diseño:"
   ]
  },
  {
   "cell_type": "code",
   "execution_count": 91,
   "id": "c3f6eb91",
   "metadata": {},
   "outputs": [],
   "source": [
    "parametros_mlg = {\n",
    "    \"client_id\": client_id,\n",
    "    \"client_secret\": client_secret,\n",
    "    \"v\": \"20180323\",\n",
    "    \"ll\": f\"{malaga['coordinates'][0]}, {malaga['coordinates'][1]}\",\n",
    "    \"query\": \"empresas de diseño\"\n",
    "}"
   ]
  },
  {
   "cell_type": "code",
   "execution_count": 95,
   "id": "4a0867b8",
   "metadata": {},
   "outputs": [],
   "source": [
    "dis_mlg=requests.get(url_query,params=parametros_mlg).json()"
   ]
  },
  {
   "cell_type": "code",
   "execution_count": 96,
   "id": "3d070f44",
   "metadata": {},
   "outputs": [],
   "source": [
    "#mlg_dis"
   ]
  },
  {
   "cell_type": "code",
   "execution_count": 97,
   "id": "3744c6bf",
   "metadata": {},
   "outputs": [],
   "source": [
    "diseños_mlg = dis_mlg[\"response\"][\"venues\"]"
   ]
  },
  {
   "cell_type": "code",
   "execution_count": 98,
   "id": "ec1c99e9",
   "metadata": {},
   "outputs": [],
   "source": [
    "lista_diseñomlg=func.extraetodo(diseños_mlg)"
   ]
  },
  {
   "cell_type": "markdown",
   "id": "b3fd281b",
   "metadata": {},
   "source": [
    "#### B. Málaga-Aeropuerto:"
   ]
  },
  {
   "cell_type": "code",
   "execution_count": 116,
   "id": "75be8d88",
   "metadata": {},
   "outputs": [],
   "source": [
    "parametros_mlg_air = {\n",
    "    \"client_id\": client_id,\n",
    "    \"client_secret\": client_secret,\n",
    "    \"v\": \"20180323\",\n",
    "    \"ll\": f\"{malaga['coordinates'][0]}, {malaga['coordinates'][1]}\",\n",
    "    \"query\": \"airport\"\n",
    "}"
   ]
  },
  {
   "cell_type": "code",
   "execution_count": 117,
   "id": "75bf484a",
   "metadata": {},
   "outputs": [],
   "source": [
    "air_mlg=requests.get(url_query,params=parametros_mlg_air).json()"
   ]
  },
  {
   "cell_type": "code",
   "execution_count": 118,
   "id": "0c86927e",
   "metadata": {},
   "outputs": [],
   "source": [
    "airport_mlg = air_mlg[\"response\"][\"venues\"]"
   ]
  },
  {
   "cell_type": "code",
   "execution_count": 119,
   "id": "bbc5277d",
   "metadata": {},
   "outputs": [],
   "source": [
    "lista_airportmlg=func.extraetodo(airport_mlg)"
   ]
  },
  {
   "cell_type": "markdown",
   "id": "bcfe6d39",
   "metadata": {},
   "source": [
    "#### B. Málaga-Starbucks:"
   ]
  },
  {
   "cell_type": "code",
   "execution_count": 101,
   "id": "487c50a0",
   "metadata": {},
   "outputs": [],
   "source": [
    "parametros_mlg_st = {\n",
    "    \"client_id\": client_id,\n",
    "    \"client_secret\": client_secret,\n",
    "    \"v\": \"20180323\",\n",
    "    \"ll\": f\"{malaga['coordinates'][0]}, {malaga['coordinates'][1]}\",\n",
    "    \"query\": \"Starbucks\"\n",
    "}"
   ]
  },
  {
   "cell_type": "code",
   "execution_count": 102,
   "id": "b1c6ecd2",
   "metadata": {},
   "outputs": [],
   "source": [
    "st_mlg=requests.get(url_query,params=parametros_mlg_st).json()"
   ]
  },
  {
   "cell_type": "code",
   "execution_count": 103,
   "id": "ab75c3e5",
   "metadata": {},
   "outputs": [],
   "source": [
    "Starbucks_mlg = st_mlg[\"response\"][\"venues\"]"
   ]
  },
  {
   "cell_type": "code",
   "execution_count": 104,
   "id": "95e5377a",
   "metadata": {},
   "outputs": [],
   "source": [
    "lista_Starbucks_mlg=func.extraetodo(Starbucks_mlg)"
   ]
  },
  {
   "cell_type": "markdown",
   "id": "1c57867b",
   "metadata": {},
   "source": [
    "#### B. Málaga-Disco:"
   ]
  },
  {
   "cell_type": "code",
   "execution_count": 108,
   "id": "4a30d669",
   "metadata": {},
   "outputs": [],
   "source": [
    "parametros_mlg_disco = {\n",
    "    \"client_id\": client_id,\n",
    "    \"client_secret\": client_secret,\n",
    "    \"v\": \"20180323\",\n",
    "    \"ll\": f\"{malaga['coordinates'][0]}, {malaga['coordinates'][1]}\",\n",
    "    \"query\": \"disco\"\n",
    "}"
   ]
  },
  {
   "cell_type": "code",
   "execution_count": 109,
   "id": "f5b797f7",
   "metadata": {},
   "outputs": [],
   "source": [
    "disco_mlg=requests.get(url_query,params=parametros_mlg_disco).json()"
   ]
  },
  {
   "cell_type": "code",
   "execution_count": 110,
   "id": "2c92ff12",
   "metadata": {},
   "outputs": [],
   "source": [
    "disco_mlg = disco_mlg[\"response\"][\"venues\"]"
   ]
  },
  {
   "cell_type": "code",
   "execution_count": 111,
   "id": "598da5ce",
   "metadata": {},
   "outputs": [],
   "source": [
    "lista_disco_mlg=func.extraetodo(disco_mlg)"
   ]
  },
  {
   "cell_type": "markdown",
   "id": "ad9bad92",
   "metadata": {},
   "source": [
    "#### B. Málaga-Vegan:"
   ]
  },
  {
   "cell_type": "code",
   "execution_count": 161,
   "id": "fb9fb539",
   "metadata": {},
   "outputs": [],
   "source": [
    "parametros_mlg_vegan = {\n",
    "    \"client_id\": client_id,\n",
    "    \"client_secret\": client_secret,\n",
    "    \"v\": \"20180323\",\n",
    "    \"ll\": f\"{malaga['coordinates'][0]}, {malaga['coordinates'][1]}\",\n",
    "    \"query\": \"Vegan\"\n",
    "}"
   ]
  },
  {
   "cell_type": "code",
   "execution_count": 143,
   "id": "1fbc5711",
   "metadata": {},
   "outputs": [],
   "source": [
    "vegan_mlg=requests.get(url_query,params=parametros_mlg_vegan).json()"
   ]
  },
  {
   "cell_type": "code",
   "execution_count": 144,
   "id": "f3ce4922",
   "metadata": {},
   "outputs": [],
   "source": [
    "vegan_mlg = vegan_mlg[\"response\"][\"venues\"]"
   ]
  },
  {
   "cell_type": "code",
   "execution_count": 145,
   "id": "75788a9a",
   "metadata": {},
   "outputs": [],
   "source": [
    "lista_vegan_mlg=func.extraetodo(vegan_mlg)"
   ]
  },
  {
   "cell_type": "markdown",
   "id": "7fa27524",
   "metadata": {},
   "source": [
    "#### Suming up all requirements in a single list (Málaga)."
   ]
  },
  {
   "cell_type": "code",
   "execution_count": 150,
   "id": "e3e93986",
   "metadata": {},
   "outputs": [],
   "source": [
    "MALAGA=func.sum_requirements(lista_diseñomlg, lista_Starbucks_mlg, lista_airportmlg, lista_disco_mlg, lista_vegan_mlg)"
   ]
  },
  {
   "cell_type": "code",
   "execution_count": 151,
   "id": "0d331274",
   "metadata": {},
   "outputs": [],
   "source": [
    "datos_MALAGA=pd.DataFrame(MALAGA)"
   ]
  },
  {
   "cell_type": "code",
   "execution_count": 152,
   "id": "89547c01",
   "metadata": {},
   "outputs": [
    {
     "data": {
      "text/html": [
       "<div>\n",
       "<style scoped>\n",
       "    .dataframe tbody tr th:only-of-type {\n",
       "        vertical-align: middle;\n",
       "    }\n",
       "\n",
       "    .dataframe tbody tr th {\n",
       "        vertical-align: top;\n",
       "    }\n",
       "\n",
       "    .dataframe thead th {\n",
       "        text-align: right;\n",
       "    }\n",
       "</style>\n",
       "<table border=\"1\" class=\"dataframe\">\n",
       "  <thead>\n",
       "    <tr style=\"text-align: right;\">\n",
       "      <th></th>\n",
       "      <th>nombre</th>\n",
       "      <th>latitud</th>\n",
       "      <th>longitud</th>\n",
       "      <th>location</th>\n",
       "    </tr>\n",
       "  </thead>\n",
       "  <tbody>\n",
       "    <tr>\n",
       "      <th>79</th>\n",
       "      <td>Discover Andalucia</td>\n",
       "      <td>36.676850</td>\n",
       "      <td>-4.492726</td>\n",
       "      <td>{'type': 'Point', 'coordinates': [36.67685, -4...</td>\n",
       "    </tr>\n",
       "    <tr>\n",
       "      <th>6</th>\n",
       "      <td>Estudio De Diseño De Tartas Oh! Cakes</td>\n",
       "      <td>36.751000</td>\n",
       "      <td>-4.421110</td>\n",
       "      <td>{'type': 'Point', 'coordinates': [36.751, -4.4...</td>\n",
       "    </tr>\n",
       "    <tr>\n",
       "      <th>74</th>\n",
       "      <td>Disco Pub Sánchez</td>\n",
       "      <td>36.931267</td>\n",
       "      <td>-4.527955</td>\n",
       "      <td>{'type': 'Point', 'coordinates': [36.931266623...</td>\n",
       "    </tr>\n",
       "    <tr>\n",
       "      <th>82</th>\n",
       "      <td>Discoteca Voltaje</td>\n",
       "      <td>36.622727</td>\n",
       "      <td>-4.500139</td>\n",
       "      <td>{'type': 'Point', 'coordinates': [36.622727, -...</td>\n",
       "    </tr>\n",
       "    <tr>\n",
       "      <th>80</th>\n",
       "      <td>Disco Kiu</td>\n",
       "      <td>36.599033</td>\n",
       "      <td>-4.518025</td>\n",
       "      <td>{'type': 'Point', 'coordinates': [36.599032971...</td>\n",
       "    </tr>\n",
       "    <tr>\n",
       "      <th>39</th>\n",
       "      <td>Aeropuerto de Málaga - Costa del Sol (AGP) (Ae...</td>\n",
       "      <td>36.677056</td>\n",
       "      <td>-4.492091</td>\n",
       "      <td>{'type': 'Point', 'coordinates': [36.677056143...</td>\n",
       "    </tr>\n",
       "    <tr>\n",
       "      <th>49</th>\n",
       "      <td>Terminal 1</td>\n",
       "      <td>36.673634</td>\n",
       "      <td>-4.488698</td>\n",
       "      <td>{'type': 'Point', 'coordinates': [36.673633767...</td>\n",
       "    </tr>\n",
       "    <tr>\n",
       "      <th>109</th>\n",
       "      <td>Casa San Andreas Eco Vegan B&amp;B</td>\n",
       "      <td>36.823563</td>\n",
       "      <td>-3.974678</td>\n",
       "      <td>{'type': 'Point', 'coordinates': [36.823563, -...</td>\n",
       "    </tr>\n",
       "  </tbody>\n",
       "</table>\n",
       "</div>"
      ],
      "text/plain": [
       "                                                nombre    latitud  longitud  \\\n",
       "79                                  Discover Andalucia  36.676850 -4.492726   \n",
       "6                Estudio De Diseño De Tartas Oh! Cakes  36.751000 -4.421110   \n",
       "74                                   Disco Pub Sánchez  36.931267 -4.527955   \n",
       "82                                   Discoteca Voltaje  36.622727 -4.500139   \n",
       "80                                           Disco Kiu  36.599033 -4.518025   \n",
       "39   Aeropuerto de Málaga - Costa del Sol (AGP) (Ae...  36.677056 -4.492091   \n",
       "49                                          Terminal 1  36.673634 -4.488698   \n",
       "109                     Casa San Andreas Eco Vegan B&B  36.823563 -3.974678   \n",
       "\n",
       "                                              location  \n",
       "79   {'type': 'Point', 'coordinates': [36.67685, -4...  \n",
       "6    {'type': 'Point', 'coordinates': [36.751, -4.4...  \n",
       "74   {'type': 'Point', 'coordinates': [36.931266623...  \n",
       "82   {'type': 'Point', 'coordinates': [36.622727, -...  \n",
       "80   {'type': 'Point', 'coordinates': [36.599032971...  \n",
       "39   {'type': 'Point', 'coordinates': [36.677056143...  \n",
       "49   {'type': 'Point', 'coordinates': [36.673633767...  \n",
       "109  {'type': 'Point', 'coordinates': [36.823563, -...  "
      ]
     },
     "execution_count": 152,
     "metadata": {},
     "output_type": "execute_result"
    }
   ],
   "source": [
    "datos_MALAGA.sample(8)"
   ]
  },
  {
   "cell_type": "markdown",
   "id": "81dc70fe",
   "metadata": {},
   "source": [
    "#### C. Barcelona-Design:"
   ]
  },
  {
   "cell_type": "code",
   "execution_count": 169,
   "id": "786557e6",
   "metadata": {},
   "outputs": [],
   "source": [
    "parametros_bcn_dis = {\n",
    "    \"client_id\": client_id,\n",
    "    \"client_secret\": client_secret,\n",
    "    \"v\": \"20180323\",\n",
    "    \"ll\": f\"{barcelona['coordinates'][0]}, {barcelona['coordinates'][1]}\",\n",
    "    \"query\": \"Diseño\"\n",
    "}"
   ]
  },
  {
   "cell_type": "code",
   "execution_count": 170,
   "id": "3532c9fa",
   "metadata": {},
   "outputs": [],
   "source": [
    "dis_bcn=requests.get(url_query,params=parametros_bcn_dis).json()\n",
    "\n",
    "diseño_bcn = dis_bcn[\"response\"][\"venues\"]\n",
    "\n",
    "lista_diseñobcn=func.extraetodo(diseño_bcn)"
   ]
  },
  {
   "cell_type": "markdown",
   "id": "e9a12ade",
   "metadata": {},
   "source": [
    "#### C. Barcelona-Airport:"
   ]
  },
  {
   "cell_type": "code",
   "execution_count": 174,
   "id": "2b3e0d7a",
   "metadata": {},
   "outputs": [],
   "source": [
    "parametros_bcn_air = {\n",
    "    \"client_id\": client_id,\n",
    "    \"client_secret\": client_secret,\n",
    "    \"v\": \"20180323\",\n",
    "    \"ll\": f\"{barcelona['coordinates'][0]}, {barcelona['coordinates'][1]}\",\n",
    "    \"query\": \"Airport\"\n",
    "}"
   ]
  },
  {
   "cell_type": "code",
   "execution_count": 175,
   "id": "c8ac1b9f",
   "metadata": {},
   "outputs": [],
   "source": [
    "air_bcn=requests.get(url_query,params=parametros_bcn_air).json()\n",
    "\n",
    "airport_bcn = air_bcn[\"response\"][\"venues\"]\n",
    "\n",
    "lista_airportbcn=func.extraetodo(airport_bcn)"
   ]
  },
  {
   "cell_type": "markdown",
   "id": "70727a84",
   "metadata": {},
   "source": [
    "#### C. Barcelona-Starbucks:"
   ]
  },
  {
   "cell_type": "code",
   "execution_count": 177,
   "id": "c282930a",
   "metadata": {},
   "outputs": [],
   "source": [
    "parametros_bcn_st = {\n",
    "    \"client_id\": client_id,\n",
    "    \"client_secret\": client_secret,\n",
    "    \"v\": \"20180323\",\n",
    "    \"ll\": f\"{barcelona['coordinates'][0]}, {barcelona['coordinates'][1]}\",\n",
    "    \"query\": \"Starbucks\"\n",
    "}"
   ]
  },
  {
   "cell_type": "code",
   "execution_count": 178,
   "id": "ddc163d8",
   "metadata": {},
   "outputs": [],
   "source": [
    "st_bcn=requests.get(url_query,params=parametros_bcn_st).json()\n",
    "\n",
    "starbucks_bcn = st_bcn[\"response\"][\"venues\"]\n",
    "\n",
    "lista_starbucksbcn=func.extraetodo(starbucks_bcn)"
   ]
  },
  {
   "cell_type": "markdown",
   "id": "41e73ced",
   "metadata": {},
   "source": [
    "#### C. Barcelona-Disco:"
   ]
  },
  {
   "cell_type": "code",
   "execution_count": 181,
   "id": "69d74a3a",
   "metadata": {},
   "outputs": [],
   "source": [
    "parametros_bcn_disco = {\n",
    "    \"client_id\": client_id,\n",
    "    \"client_secret\": client_secret,\n",
    "    \"v\": \"20180323\",\n",
    "    \"ll\": f\"{barcelona['coordinates'][0]}, {barcelona['coordinates'][1]}\",\n",
    "    \"query\": \"Disco\"\n",
    "}"
   ]
  },
  {
   "cell_type": "code",
   "execution_count": 182,
   "id": "0b8313b6",
   "metadata": {},
   "outputs": [],
   "source": [
    "disco_bcn=requests.get(url_query,params=parametros_bcn_disco).json()\n",
    "\n",
    "discoteca_bcn = disco_bcn[\"response\"][\"venues\"]\n",
    "\n",
    "lista_discotecabcn=func.extraetodo(discoteca_bcn)"
   ]
  },
  {
   "cell_type": "markdown",
   "id": "9207f691",
   "metadata": {},
   "source": [
    "#### C. Barcelona-Vegan:"
   ]
  },
  {
   "cell_type": "code",
   "execution_count": 184,
   "id": "8b338d8d",
   "metadata": {},
   "outputs": [],
   "source": [
    "parametros_bcn_veg = {\n",
    "    \"client_id\": client_id,\n",
    "    \"client_secret\": client_secret,\n",
    "    \"v\": \"20180323\",\n",
    "    \"ll\": f\"{barcelona['coordinates'][0]}, {barcelona['coordinates'][1]}\",\n",
    "    \"query\": \"Vegan\"\n",
    "}"
   ]
  },
  {
   "cell_type": "code",
   "execution_count": 185,
   "id": "09b18ad2",
   "metadata": {},
   "outputs": [],
   "source": [
    "veg_bcn=requests.get(url_query,params=parametros_bcn_veg).json()\n",
    "\n",
    "vegan_bcn = veg_bcn[\"response\"][\"venues\"]\n",
    "\n",
    "lista_veganbcn=func.extraetodo(vegan_bcn)"
   ]
  },
  {
   "cell_type": "markdown",
   "id": "2a9e40bd",
   "metadata": {},
   "source": [
    "#### Suming up all requirements in a single list (Barcelona)."
   ]
  },
  {
   "cell_type": "code",
   "execution_count": 187,
   "id": "ccf7a419",
   "metadata": {},
   "outputs": [],
   "source": [
    "BARCELONA=func.sum_requirements(lista_diseñobcn, lista_airportbcn, lista_starbucksbcn, lista_discotecabcn, lista_veganbcn)\n"
   ]
  },
  {
   "cell_type": "code",
   "execution_count": 188,
   "id": "43d3ca68",
   "metadata": {},
   "outputs": [],
   "source": [
    "datos_BARCELONA=pd.DataFrame(BARCELONA)"
   ]
  },
  {
   "cell_type": "code",
   "execution_count": 189,
   "id": "b0d64f82",
   "metadata": {},
   "outputs": [
    {
     "data": {
      "text/html": [
       "<div>\n",
       "<style scoped>\n",
       "    .dataframe tbody tr th:only-of-type {\n",
       "        vertical-align: middle;\n",
       "    }\n",
       "\n",
       "    .dataframe tbody tr th {\n",
       "        vertical-align: top;\n",
       "    }\n",
       "\n",
       "    .dataframe thead th {\n",
       "        text-align: right;\n",
       "    }\n",
       "</style>\n",
       "<table border=\"1\" class=\"dataframe\">\n",
       "  <thead>\n",
       "    <tr style=\"text-align: right;\">\n",
       "      <th></th>\n",
       "      <th>nombre</th>\n",
       "      <th>latitud</th>\n",
       "      <th>longitud</th>\n",
       "      <th>location</th>\n",
       "    </tr>\n",
       "  </thead>\n",
       "  <tbody>\n",
       "    <tr>\n",
       "      <th>22</th>\n",
       "      <td>Dulce Diseño</td>\n",
       "      <td>41.448183</td>\n",
       "      <td>2.247869</td>\n",
       "      <td>{'type': 'Point', 'coordinates': [41.448182950...</td>\n",
       "    </tr>\n",
       "    <tr>\n",
       "      <th>30</th>\n",
       "      <td>Barcelona–El Prat Josep Tarradellas Airport (B...</td>\n",
       "      <td>41.295607</td>\n",
       "      <td>2.076223</td>\n",
       "      <td>{'type': 'Point', 'coordinates': [41.295606993...</td>\n",
       "    </tr>\n",
       "    <tr>\n",
       "      <th>103</th>\n",
       "      <td>Pisco Disco</td>\n",
       "      <td>41.372001</td>\n",
       "      <td>2.165844</td>\n",
       "      <td>{'type': 'Point', 'coordinates': [41.372001, 2...</td>\n",
       "    </tr>\n",
       "    <tr>\n",
       "      <th>75</th>\n",
       "      <td>Starbucks Diagonal 640</td>\n",
       "      <td>41.391069</td>\n",
       "      <td>2.136410</td>\n",
       "      <td>{'type': 'Point', 'coordinates': [41.391069270...</td>\n",
       "    </tr>\n",
       "    <tr>\n",
       "      <th>21</th>\n",
       "      <td>Cute and Cut - Peluquería y complementos de di...</td>\n",
       "      <td>41.453599</td>\n",
       "      <td>2.203271</td>\n",
       "      <td>{'type': 'Point', 'coordinates': [41.453599369...</td>\n",
       "    </tr>\n",
       "    <tr>\n",
       "      <th>26</th>\n",
       "      <td>Fundacion B.C.D. Para La Promocion Del Diseño ...</td>\n",
       "      <td>41.402451</td>\n",
       "      <td>2.188092</td>\n",
       "      <td>{'type': 'Point', 'coordinates': [41.402451, 2...</td>\n",
       "    </tr>\n",
       "    <tr>\n",
       "      <th>126</th>\n",
       "      <td>Monchito Vegan</td>\n",
       "      <td>41.380971</td>\n",
       "      <td>2.179880</td>\n",
       "      <td>{'type': 'Point', 'coordinates': [41.380970639...</td>\n",
       "    </tr>\n",
       "    <tr>\n",
       "      <th>9</th>\n",
       "      <td>Dulce Diseño</td>\n",
       "      <td>41.359226</td>\n",
       "      <td>2.129343</td>\n",
       "      <td>{'type': 'Point', 'coordinates': [41.359225903...</td>\n",
       "    </tr>\n",
       "    <tr>\n",
       "      <th>54</th>\n",
       "      <td>Sala VIP Joan Miró</td>\n",
       "      <td>41.290001</td>\n",
       "      <td>2.074209</td>\n",
       "      <td>{'type': 'Point', 'coordinates': [41.290001452...</td>\n",
       "    </tr>\n",
       "    <tr>\n",
       "      <th>91</th>\n",
       "      <td>Discos Paradiso</td>\n",
       "      <td>41.382223</td>\n",
       "      <td>2.165922</td>\n",
       "      <td>{'type': 'Point', 'coordinates': [41.382223232...</td>\n",
       "    </tr>\n",
       "  </tbody>\n",
       "</table>\n",
       "</div>"
      ],
      "text/plain": [
       "                                                nombre    latitud  longitud  \\\n",
       "22                                        Dulce Diseño  41.448183  2.247869   \n",
       "30   Barcelona–El Prat Josep Tarradellas Airport (B...  41.295607  2.076223   \n",
       "103                                        Pisco Disco  41.372001  2.165844   \n",
       "75                              Starbucks Diagonal 640  41.391069  2.136410   \n",
       "21   Cute and Cut - Peluquería y complementos de di...  41.453599  2.203271   \n",
       "26   Fundacion B.C.D. Para La Promocion Del Diseño ...  41.402451  2.188092   \n",
       "126                                     Monchito Vegan  41.380971  2.179880   \n",
       "9                                         Dulce Diseño  41.359226  2.129343   \n",
       "54                                  Sala VIP Joan Miró  41.290001  2.074209   \n",
       "91                                     Discos Paradiso  41.382223  2.165922   \n",
       "\n",
       "                                              location  \n",
       "22   {'type': 'Point', 'coordinates': [41.448182950...  \n",
       "30   {'type': 'Point', 'coordinates': [41.295606993...  \n",
       "103  {'type': 'Point', 'coordinates': [41.372001, 2...  \n",
       "75   {'type': 'Point', 'coordinates': [41.391069270...  \n",
       "21   {'type': 'Point', 'coordinates': [41.453599369...  \n",
       "26   {'type': 'Point', 'coordinates': [41.402451, 2...  \n",
       "126  {'type': 'Point', 'coordinates': [41.380970639...  \n",
       "9    {'type': 'Point', 'coordinates': [41.359225903...  \n",
       "54   {'type': 'Point', 'coordinates': [41.290001452...  \n",
       "91   {'type': 'Point', 'coordinates': [41.382223232...  "
      ]
     },
     "execution_count": 189,
     "metadata": {},
     "output_type": "execute_result"
    }
   ],
   "source": [
    "datos_BARCELONA.sample(10)"
   ]
  },
  {
   "cell_type": "markdown",
   "id": "bd7b203e",
   "metadata": {},
   "source": [
    "### Exporting data to Mongo DB Compass."
   ]
  },
  {
   "cell_type": "markdown",
   "id": "0e43f79e",
   "metadata": {},
   "source": [
    "#### A. Madrid:"
   ]
  },
  {
   "cell_type": "code",
   "execution_count": 73,
   "id": "dd5884a5",
   "metadata": {},
   "outputs": [],
   "source": [
    "with open (\"Madrid.json\",\"w\") as f: \n",
    "    json.dump(MADRID,f) "
   ]
  },
  {
   "cell_type": "markdown",
   "id": "df2ad08f",
   "metadata": {},
   "source": [
    "#### B. Málaga:"
   ]
  },
  {
   "cell_type": "code",
   "execution_count": 160,
   "id": "d6cfcee1",
   "metadata": {},
   "outputs": [],
   "source": [
    "with open (\"Malaga.json\",\"w\") as f: \n",
    "    json.dump(MALAGA,f) "
   ]
  },
  {
   "cell_type": "markdown",
   "id": "03af75d5",
   "metadata": {},
   "source": [
    "#### C. Barcelona:"
   ]
  },
  {
   "cell_type": "code",
   "execution_count": 190,
   "id": "ef481a04",
   "metadata": {},
   "outputs": [],
   "source": [
    "with open (\"Barcelona.json\",\"w\") as f: \n",
    "    json.dump(BARCELONA,f) "
   ]
  },
  {
   "cell_type": "markdown",
   "id": "7124aeb2",
   "metadata": {},
   "source": [
    "### Geoqueries:"
   ]
  },
  {
   "cell_type": "code",
   "execution_count": 74,
   "id": "703de3a9",
   "metadata": {},
   "outputs": [
    {
     "data": {
      "text/plain": [
       "Database(MongoClient(host=['localhost:27017'], document_class=dict, tz_aware=False, connect=True), 'PROYECTO_3')"
      ]
     },
     "execution_count": 74,
     "metadata": {},
     "output_type": "execute_result"
    }
   ],
   "source": [
    "client = MongoClient(\"localhost:27017\")\n",
    "db = client.get_database(\"PROYECTO_3\")  # Me conecto a la base de datos \"PROYECTO_3\"\n",
    "db"
   ]
  },
  {
   "cell_type": "code",
   "execution_count": 75,
   "id": "4cea61c9",
   "metadata": {},
   "outputs": [],
   "source": [
    "Madrid = db.get_collection(\"MADRID\") # Me conecto a la colección \"MADRID\"."
   ]
  },
  {
   "cell_type": "code",
   "execution_count": 76,
   "id": "d021bc6c",
   "metadata": {},
   "outputs": [
    {
     "data": {
      "text/plain": [
       "'location_2dsphere'"
      ]
     },
     "execution_count": 76,
     "metadata": {},
     "output_type": "execute_result"
    }
   ],
   "source": [
    "db.Madrid.create_index([(\"location\", GEOSPHERE)]) # Creo el index 2dsphere."
   ]
  },
  {
   "cell_type": "code",
   "execution_count": 77,
   "id": "016133c3",
   "metadata": {},
   "outputs": [
    {
     "data": {
      "text/plain": [
       "{'type': 'Point', 'coordinates': ['40.44980', '-3.69164']}"
      ]
     },
     "execution_count": 77,
     "metadata": {},
     "output_type": "execute_result"
    }
   ],
   "source": [
    "madrid # mi posición en Madrid: Torre Picasso."
   ]
  },
  {
   "cell_type": "code",
   "execution_count": 78,
   "id": "963bc877",
   "metadata": {},
   "outputs": [],
   "source": [
    "metros= 200 # radio máximo de búsqueda que establezco respecto a mis coordenadas."
   ]
  },
  {
   "cell_type": "code",
   "execution_count": 79,
   "id": "d8eb81f4",
   "metadata": {},
   "outputs": [],
   "source": [
    "query = {\"location\": {\"$near\": {\"$geometry\": madrid, \"$maxDistance\": metros}}}"
   ]
  },
  {
   "cell_type": "code",
   "execution_count": 80,
   "id": "3e432e8f",
   "metadata": {},
   "outputs": [
    {
     "data": {
      "text/plain": [
       "{'location': {'$near': {'$geometry': {'type': 'Point',\n",
       "    'coordinates': ['40.44980', '-3.69164']},\n",
       "   '$maxDistance': 200}}}"
      ]
     },
     "execution_count": 80,
     "metadata": {},
     "output_type": "execute_result"
    }
   ],
   "source": [
    "query"
   ]
  },
  {
   "cell_type": "code",
   "execution_count": 83,
   "id": "572b216b",
   "metadata": {},
   "outputs": [],
   "source": [
    "#ERROR!! list(Madrid.find(query))"
   ]
  },
  {
   "cell_type": "code",
   "execution_count": null,
   "id": "42e4c270",
   "metadata": {},
   "outputs": [],
   "source": []
  },
  {
   "cell_type": "code",
   "execution_count": null,
   "id": "89d70366",
   "metadata": {},
   "outputs": [],
   "source": []
  }
 ],
 "metadata": {
  "kernelspec": {
   "display_name": "ironhack",
   "language": "python",
   "name": "ironhack"
  },
  "language_info": {
   "codemirror_mode": {
    "name": "ipython",
    "version": 3
   },
   "file_extension": ".py",
   "mimetype": "text/x-python",
   "name": "python",
   "nbconvert_exporter": "python",
   "pygments_lexer": "ipython3",
   "version": "3.8.5"
  }
 },
 "nbformat": 4,
 "nbformat_minor": 5
}
