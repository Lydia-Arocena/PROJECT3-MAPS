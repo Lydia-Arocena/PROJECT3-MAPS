{
 "cells": [
  {
   "cell_type": "code",
   "execution_count": 3,
   "id": "35a4d245",
   "metadata": {},
   "outputs": [],
   "source": [
    "import requests\n",
    "import json\n",
    "from dotenv import load_dotenv\n",
    "import os\n",
    "import pandas as pd\n",
    "import sys\n",
    "sys.path.append('../')\n",
    "import src.functions as func"
   ]
  },
  {
   "cell_type": "code",
   "execution_count": 8,
   "id": "7bd2a2d2",
   "metadata": {},
   "outputs": [
    {
     "data": {
      "text/plain": [
       "{'success': False,\n",
       " 'error': {'code': '006',\n",
       "  'message': 'Request Throttled. Over Rate limit: up to 2 per sec. See geocode.xyz/pricing',\n",
       "  'requests': '7'}}"
      ]
     },
     "execution_count": 8,
     "metadata": {},
     "output_type": "execute_result"
    }
   ],
   "source": [
    "func.geocode(\"Castellana 89, Madrid\")"
   ]
  },
  {
   "cell_type": "code",
   "execution_count": null,
   "id": "7824b455",
   "metadata": {},
   "outputs": [],
   "source": [
    "load_dotenv()"
   ]
  },
  {
   "cell_type": "code",
   "execution_count": null,
   "id": "f94416b9",
   "metadata": {},
   "outputs": [],
   "source": [
    "client_id = os.getenv(\"tok1\")\n",
    "client_secret = os.getenv(\"tok2\")"
   ]
  },
  {
   "cell_type": "code",
   "execution_count": null,
   "id": "d6f0d956",
   "metadata": {},
   "outputs": [],
   "source": [
    "url = \"https://favqs.com/api/session\"\n",
    "url_query = 'https://api.foursquare.com/v2/venues/search'"
   ]
  },
  {
   "cell_type": "code",
   "execution_count": null,
   "id": "d0ee9cb4",
   "metadata": {},
   "outputs": [],
   "source": [
    "parametros = {\n",
    "    \"client_id\": client_id,\n",
    "    \"client_secret\": client_secret,\n",
    "    \"v\": \"20180323\",\n",
    "    \"ll\": f\"{madrid['coordinates'][0]}, {madrid['coordinates'][1]}\",\n",
    "    \"query\": \"Librería\"\n",
    "}"
   ]
  },
  {
   "cell_type": "code",
   "execution_count": null,
   "id": "b7aaff80",
   "metadata": {},
   "outputs": [],
   "source": [
    "resp = requests.get(url_query, params = parametros).json()"
   ]
  },
  {
   "cell_type": "code",
   "execution_count": null,
   "id": "fc8b3ad7",
   "metadata": {},
   "outputs": [],
   "source": []
  }
 ],
 "metadata": {
  "kernelspec": {
   "display_name": "ironhack",
   "language": "python",
   "name": "ironhack"
  },
  "language_info": {
   "codemirror_mode": {
    "name": "ipython",
    "version": 3
   },
   "file_extension": ".py",
   "mimetype": "text/x-python",
   "name": "python",
   "nbconvert_exporter": "python",
   "pygments_lexer": "ipython3",
   "version": "3.8.5"
  }
 },
 "nbformat": 4,
 "nbformat_minor": 5
}
